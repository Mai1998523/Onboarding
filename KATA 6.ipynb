{
 "cells": [
  {
   "cell_type": "markdown",
   "metadata": {},
   "source": [
    "# Ejercicio 1 Crear y usar listas de Python\r\n"
   ]
  },
  {
   "cell_type": "code",
   "execution_count": 5,
   "metadata": {},
   "outputs": [
    {
     "name": "stdout",
     "output_type": "stream",
     "text": [
      "Numero total de planetas en el sistema solar es de  8 Planetas\n"
     ]
    }
   ],
   "source": [
    "planets = ['Mercury', 'Venus', 'Earth', 'Mars', 'Jupiter', 'Saturn', 'Uranus', 'Neptune']\r\n",
    "number_of_planets = len(planets)\r\n",
    "print (\"Numero total de planetas en el sistema solar es de \", (number_of_planets), \"Planetas\")"
   ]
  },
  {
   "cell_type": "code",
   "execution_count": 6,
   "metadata": {},
   "outputs": [
    {
     "name": "stdout",
     "output_type": "stream",
     "text": [
      "Numero total de planetas en el sistema solar:  9 Planetas\n",
      "El ultimo planeta del sistema solar es:  Pluton\n"
     ]
    }
   ],
   "source": [
    "planets.append('Pluton')\r\n",
    "number_of_planets = len(planets)\r\n",
    "print (\"Numero total de planetas en el sistema solar: \", (number_of_planets), \"Planetas\")\r\n",
    "print(\"El ultimo planeta del sistema solar es: \", planets[-1])"
   ]
  },
  {
   "cell_type": "markdown",
   "metadata": {},
   "source": [
    "## Ejercicio 2: Trabajando con datos de una lista\r\n"
   ]
  },
  {
   "cell_type": "code",
   "execution_count": 9,
   "metadata": {},
   "outputs": [
    {
     "name": "stdout",
     "output_type": "stream",
     "text": [
      "El planeta ingresado es el numero  4 en el sistema solar\n",
      "Los planetas mas cercanos a  Mars son: ['Mercury', 'Venus', 'Earth']\n",
      "Los planetas mas alejados a  Mars son: ['Jupiter', 'Saturn', 'Uranus', 'Neptune']\n"
     ]
    }
   ],
   "source": [
    "planets = ['Mercury', 'Venus', 'Earth', 'Mars', 'Jupiter', 'Saturn', 'Uranus', 'Neptune']\r\n",
    "solicitar_planeta = input(\"Porfavor ingresa nombre de un plante (primer letra en mayuscula): \")\r\n",
    "usuario_index = planets.index(solicitar_planeta)\r\n",
    "print(\"El planeta ingresado es el numero \", usuario_index + 1, \"en el sistema solar\")\r\n",
    "print (\"Los planetas mas cercanos a \", solicitar_planeta, \"son:\", planets[0:usuario_index])\r\n",
    "print (\"Los planetas mas alejados a \", solicitar_planeta, \"son:\", planets[usuario_index + 1:])\r\n"
   ]
  }
 ],
 "metadata": {
  "interpreter": {
   "hash": "b3ba2566441a7c06988d0923437866b63cedc61552a5af99d1f4fb67d367b25f"
  },
  "kernelspec": {
   "display_name": "Python 3.8.8 64-bit ('maigu': virtualenv)",
   "name": "python388jvsc74a57bd00982fc62faa843e8b41daaa8745910795092c5706c813d6d578b77a135c56b79"
  },
  "language_info": {
   "codemirror_mode": {
    "name": "ipython",
    "version": 3
   },
   "file_extension": ".py",
   "mimetype": "text/x-python",
   "name": "python",
   "nbconvert_exporter": "python",
   "pygments_lexer": "ipython3",
   "version": "3.8.8"
  },
  "orig_nbformat": 4
 },
 "nbformat": 4,
 "nbformat_minor": 2
}