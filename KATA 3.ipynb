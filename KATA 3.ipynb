{
 "cells": [
  {
   "cell_type": "markdown",
   "metadata": {},
   "source": [
    "## Ejercicio - Escribir declaraciones if, else, y elif"
   ]
  },
  {
   "cell_type": "markdown",
   "metadata": {},
   "source": [
    "Imprimir una advertencia si un asteroide se acerca a la Tierra demasiado rápido. \r\n",
    "La velocidad del asteroide varía dependiendo de lo cerca que esté del sol, y cualquier velocidad superior a 25 kilómetros por segundo (km/s) merece una advertencia.\r\n",
    "Un asteroide se acerca, y viaja a una velocidad de 49 km/s."
   ]
  },
  {
   "cell_type": "code",
   "execution_count": 9,
   "metadata": {},
   "outputs": [
    {
     "name": "stdout",
     "output_type": "stream",
     "text": [
      "¡ADVERTENCIA!, UN ASTEROIDE SE ACERCA\n"
     ]
    }
   ],
   "source": [
    "VelAsteroide = 49 #km/s\r\n",
    "limite = 25 #km/s --> kilometros por segundo\r\n",
    "\r\n",
    "if VelAsteroide > limite:\r\n",
    "    print(\"¡ADVERTENCIA!, UN ASTEROIDE SE ACERCA\")\r\n",
    "else:\r\n",
    "    print(\"BUSCANDO...\")"
   ]
  },
  {
   "cell_type": "markdown",
   "metadata": {},
   "source": [
    "Si un asteroide entra en la atmósfera de la Tierra a una velocidad mayor o igual a 20 km/s, a veces produce un rayo de luz que se puede ver desde la Tierra. Escribe la lógica condicional que usa declaraciones if, else, y elif para alertar a las personas de todo el mundo que deben buscar un asteroide en el cielo. ¡Hay uno que se dirige a la tierra ahora a una velocidad de 19 km/s!"
   ]
  },
  {
   "cell_type": "code",
   "execution_count": 10,
   "metadata": {},
   "outputs": [
    {
     "name": "stdout",
     "output_type": "stream",
     "text": [
      "Asterioide ¡Imperceptible!\n"
     ]
    }
   ],
   "source": [
    "VelAst = 19 #km/s\r\n",
    "\r\n",
    "if VelAst >= 20:\r\n",
    "    print(\"Asterioide ¡PERCEPTIBLE!\")\r\n",
    "elif VelAst<20:\r\n",
    "    print(\"Asterioide ¡Imperceptible!\")\r\n",
    "else:\r\n",
    "    print(\"Ningun asteroide en órbita\")\r\n"
   ]
  },
  {
   "cell_type": "markdown",
   "metadata": {},
   "source": [
    "## Ejercicio: Uso de operadores and y or\r\n"
   ]
  },
  {
   "cell_type": "markdown",
   "metadata": {},
   "source": [
    "### Si una pieza de un asteroide que es más grande que 25 metros pero más pequeña que 1000 metros golpeara la Tierra, causaría mucho daño.\r\n",
    "\r\n",
    "### La velocidad del asteroide varía en función de lo cerca que esté del sol, y cualquier velocidad superior a 25 kilómetros por segundo (km/s) merece una advertencia.\r\n",
    "\r\n",
    "### Si un asteroide entra en la atmósfera de la Tierra a una velocidad mayor o igual a 20 km/s, a veces produce un rayo de luz que se puede ver desde la Tierra."
   ]
  },
  {
   "cell_type": "code",
   "execution_count": 21,
   "metadata": {},
   "outputs": [
    {
     "name": "stdout",
     "output_type": "stream",
     "text": [
      "¡Mira el cielo! Podra ver el rayo de luz que produce el asteroide\n"
     ]
    }
   ],
   "source": [
    "velocidad = int(input(\"Cual es la velocidad del asteroide: \"))\r\n",
    "tamaño = int(input(\"Cual es el tamaño del asteroide: \"))\r\n",
    "\r\n",
    "if velocidad > 25 or tamaño > 25:\r\n",
    "    print(\"¡ALERTA! peligro de colision\")\r\n",
    "elif velocidad >= 20 and velocidad <= 25:\r\n",
    "    print(\"¡Mira el cielo! Podra ver el rayo de luz que produce el asteroide\")\r\n",
    "else:\r\n",
    "    print(\"No hay actividad :)\")\r\n"
   ]
  }
 ],
 "metadata": {
  "kernelspec": {
   "display_name": "Python 3.8.8 64-bit ('maigu': virtualenv)",
   "name": "python388jvsc74a57bd00982fc62faa843e8b41daaa8745910795092c5706c813d6d578b77a135c56b79"
  },
  "language_info": {
   "codemirror_mode": {
    "name": "ipython",
    "version": 3
   },
   "file_extension": ".py",
   "mimetype": "text/x-python",
   "name": "python",
   "nbconvert_exporter": "python",
   "pygments_lexer": "ipython3",
   "version": "3.8.8"
  },
  "orig_nbformat": 2
 },
 "nbformat": 4,
 "nbformat_minor": 2
}