{
 "cells": [
  {
   "cell_type": "markdown",
   "metadata": {},
   "source": [
    "## Ejercicio 1: Creación de diccionarios de Python\r\n"
   ]
  },
  {
   "cell_type": "code",
   "execution_count": 7,
   "metadata": {},
   "outputs": [
    {
     "name": "stdout",
     "output_type": "stream",
     "text": [
      "Marte tiene 42 Lunas\n",
      "Marte tiene una circunferencia polar de 6752 km\n"
     ]
    }
   ],
   "source": [
    "planet = {\r\n",
    "    'name' : 'Mars',\r\n",
    "    'moons' : 42\r\n",
    "}\r\n",
    "print(f'{planet[\"name\"]} tiene {planet[\"moons\"]} Lunas')\r\n",
    "planet['circunferencia km'] = {\r\n",
    "    'polar': 6752,\r\n",
    "    'equatorial': 6792\r\n",
    "}\r\n",
    "print(f'{planet[\"name\"]} tiene una circunferencia polar de {planet[\"circunferencia km\"][\"polar\"]} km')\r\n"
   ]
  },
  {
   "cell_type": "markdown",
   "metadata": {},
   "source": [
    "# Ejercicio 2"
   ]
  },
  {
   "cell_type": "code",
   "execution_count": 1,
   "metadata": {},
   "outputs": [],
   "source": [
    "planet_moons = {\n",
    "    'mercury': 0,\n",
    "    'venus': 0,\n",
    "    'earth': 1,\n",
    "    'mars': 2,\n",
    "    'jupiter': 79,\n",
    "    'saturn': 82,\n",
    "    'uranus': 27,\n",
    "    'neptune': 14,\n",
    "    'pluto': 5,\n",
    "    'haumea': 2,\n",
    "    'makemake': 1,\n",
    "    'eris': 1\n",
    "}"
   ]
  },
  {
   "cell_type": "code",
   "execution_count": 3,
   "metadata": {},
   "outputs": [
    {
     "name": "stdout",
     "output_type": "stream",
     "text": [
      "17.833333333333332\n"
     ]
    }
   ],
   "source": [
    "moons = planet_moons.values()\r\n",
    "planets = len(planet_moons.keys())\r\n",
    "total_moons = 0\r\n",
    "for i in moons:\r\n",
    "    total_moons = total_moons + i\r\n",
    "average = total_moons / planets\r\n",
    "print(average)"
   ]
  }
 ],
 "metadata": {
  "interpreter": {
   "hash": "b3ba2566441a7c06988d0923437866b63cedc61552a5af99d1f4fb67d367b25f"
  },
  "kernelspec": {
   "display_name": "Python 3.8.8 64-bit ('maigu': virtualenv)",
   "name": "python388jvsc74a57bd00982fc62faa843e8b41daaa8745910795092c5706c813d6d578b77a135c56b79"
  },
  "language_info": {
   "codemirror_mode": {
    "name": "ipython",
    "version": 3
   },
   "file_extension": ".py",
   "mimetype": "text/x-python",
   "name": "python",
   "nbconvert_exporter": "python",
   "pygments_lexer": "ipython3",
   "version": "3.8.8"
  },
  "orig_nbformat": 4
 },
 "nbformat": 4,
 "nbformat_minor": 2
}