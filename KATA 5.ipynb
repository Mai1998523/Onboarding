{
 "cells": [
  {
   "cell_type": "markdown",
   "metadata": {},
   "source": [
    "## Ejercicio1 - Utilizar operadores aritméticos\r\n"
   ]
  },
  {
   "cell_type": "code",
   "execution_count": 1,
   "metadata": {},
   "outputs": [],
   "source": [
    "tierra = 149597870\n",
    "jupiter = 778547200"
   ]
  },
  {
   "cell_type": "code",
   "execution_count": 2,
   "metadata": {},
   "outputs": [
    {
     "name": "stdout",
     "output_type": "stream",
     "text": [
      "Distancia en km:  628949330\n",
      "Distanacia en millas 390577534\n"
     ]
    }
   ],
   "source": [
    "distancia = tierra - jupiter\n",
    "millas = distancia * 0.621\n",
    "print (\"Distancia en km: \", (abs(distancia)))\n",
    "print (\"Distanacia en millas\", (abs(round(millas))))"
   ]
  },
  {
   "cell_type": "markdown",
   "metadata": {},
   "source": [
    " # Ejercicio 2: convierte cadenas en números y usa valores absolutos\r\n"
   ]
  },
  {
   "cell_type": "code",
   "execution_count": 3,
   "metadata": {},
   "outputs": [
    {
     "name": "stdout",
     "output_type": "stream",
     "text": [
      "Distancia en km:  41400000\n",
      "Distanacia en millas 25709400\n"
     ]
    }
   ],
   "source": [
    "primerP = int(input(\"Introduzca la distancia en km entre el primer planeta y el sol\"))\r\n",
    "segundoP = int(input(\"Introduzca la distancia en km entre el segundo planeta y el sol\"))\r\n",
    "distancia2 = segundoP - primerP\r\n",
    "millas2 = distancia2 * 0.621\r\n",
    "print (\"Distancia en km: \", (abs(distancia2)))\r\n",
    "print (\"Distanacia en millas\", (abs(round(millas2))))"
   ]
  }
 ],
 "metadata": {
  "interpreter": {
   "hash": "b3ba2566441a7c06988d0923437866b63cedc61552a5af99d1f4fb67d367b25f"
  },
  "kernelspec": {
   "display_name": "Python 3.8.8 64-bit ('maigu': virtualenv)",
   "name": "python388jvsc74a57bd00982fc62faa843e8b41daaa8745910795092c5706c813d6d578b77a135c56b79"
  },
  "language_info": {
   "codemirror_mode": {
    "name": "ipython",
    "version": 3
   },
   "file_extension": ".py",
   "mimetype": "text/x-python",
   "name": "python",
   "nbconvert_exporter": "python",
   "pygments_lexer": "ipython3",
   "version": "3.8.8"
  },
  "orig_nbformat": 4
 },
 "nbformat": 4,
 "nbformat_minor": 2
}