{
 "cells": [
  {
   "cell_type": "markdown",
   "metadata": {},
   "source": [
    "## FECHAS"
   ]
  },
  {
   "cell_type": "code",
   "execution_count": 36,
   "metadata": {},
   "outputs": [
    {
     "name": "stdout",
     "output_type": "stream",
     "text": [
      "2022-02-20\n"
     ]
    }
   ],
   "source": [
    "from datetime import date\r\n",
    "date.today() \r\n",
    "print(date.today()) #podemos usarla para imprimir desde consola"
   ]
  },
  {
   "cell_type": "markdown",
   "metadata": {},
   "source": [
    "[!TIP] 1 parsec es 3.26156 años luz. Utiliza el operador de multiplicación.\r\n",
    "\r\n"
   ]
  },
  {
   "cell_type": "code",
   "execution_count": 37,
   "metadata": {},
   "outputs": [
    {
     "name": "stdout",
     "output_type": "stream",
     "text": [
      "11 parsec, is 35.877159999999996 lightyears\n",
      "11 parsec es igual a: 35.877159999999996 años luz\n",
      "11 parsec es igual a:  35.877159999999996 años luz\n"
     ]
    }
   ],
   "source": [
    "parsec = 11\r\n",
    "lightyears = 3.26156 * parsec\r\n",
    "\r\n",
    "\r\n",
    "print(str(parsec) + \" parsec, is \" + str(lightyears) + \" lightyears\")\r\n",
    "print(\"{} parsec es igual a: {} años luz\".format(parsec,lightyears))#OPCION 1\r\n",
    "print(parsec,\"parsec es igual a: \", lightyears, \"años luz\")# OPCION 2"
   ]
  }
 ],
 "metadata": {
  "kernelspec": {
   "display_name": "Python 3.8.8 64-bit ('maigu': virtualenv)",
   "name": "python388jvsc74a57bd00982fc62faa843e8b41daaa8745910795092c5706c813d6d578b77a135c56b79"
  },
  "language_info": {
   "codemirror_mode": {
    "name": "ipython",
    "version": 3
   },
   "file_extension": ".py",
   "mimetype": "text/x-python",
   "name": "python",
   "nbconvert_exporter": "python",
   "pygments_lexer": "ipython3",
   "version": "3.8.8"
  },
  "orig_nbformat": 2
 },
 "nbformat": 4,
 "nbformat_minor": 2
}